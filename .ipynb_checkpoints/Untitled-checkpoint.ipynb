{
 "cells": [
  {
   "cell_type": "code",
   "execution_count": 9,
   "id": "845ed881",
   "metadata": {},
   "outputs": [],
   "source": [
    "# Manage DataFrames\n",
    "import pandas as pd\n",
    "\n",
    "# Visualize\n",
    "import matplotlib.pyplot as plt\n",
    "import seaborn as sns\n",
    "\n",
    "# Regression model\n",
    "from sklearn.linear_model import LinearRegression\n",
    "from sklearn.model_selection import cross_val_score\n",
    "from sklearn.model_selection import train_test_split"
   ]
  },
  {
   "cell_type": "code",
   "execution_count": 4,
   "id": "b61b75cc",
   "metadata": {},
   "outputs": [],
   "source": [
    "df = pd.read_csv(\"Exercise2BusData.csv\")"
   ]
  },
  {
   "cell_type": "code",
   "execution_count": 6,
   "id": "2e28f03d",
   "metadata": {},
   "outputs": [
    {
     "data": {
      "text/html": [
       "<div>\n",
       "<style scoped>\n",
       "    .dataframe tbody tr th:only-of-type {\n",
       "        vertical-align: middle;\n",
       "    }\n",
       "\n",
       "    .dataframe tbody tr th {\n",
       "        vertical-align: top;\n",
       "    }\n",
       "\n",
       "    .dataframe thead th {\n",
       "        text-align: right;\n",
       "    }\n",
       "</style>\n",
       "<table border=\"1\" class=\"dataframe\">\n",
       "  <thead>\n",
       "    <tr style=\"text-align: right;\">\n",
       "      <th></th>\n",
       "      <th>Arrival_delay</th>\n",
       "      <th>Dwell_time</th>\n",
       "      <th>Scheduled_travel_time</th>\n",
       "      <th>Upstream_stop_delay</th>\n",
       "      <th>Recurrent_delay</th>\n",
       "    </tr>\n",
       "  </thead>\n",
       "  <tbody>\n",
       "    <tr>\n",
       "      <th>0</th>\n",
       "      <td>-23</td>\n",
       "      <td>0</td>\n",
       "      <td>39</td>\n",
       "      <td>-4</td>\n",
       "      <td>28.641509</td>\n",
       "    </tr>\n",
       "    <tr>\n",
       "      <th>1</th>\n",
       "      <td>168</td>\n",
       "      <td>0</td>\n",
       "      <td>39</td>\n",
       "      <td>181</td>\n",
       "      <td>27.880597</td>\n",
       "    </tr>\n",
       "    <tr>\n",
       "      <th>2</th>\n",
       "      <td>231</td>\n",
       "      <td>0</td>\n",
       "      <td>39</td>\n",
       "      <td>244</td>\n",
       "      <td>27.852941</td>\n",
       "    </tr>\n",
       "    <tr>\n",
       "      <th>3</th>\n",
       "      <td>150</td>\n",
       "      <td>17</td>\n",
       "      <td>39</td>\n",
       "      <td>143</td>\n",
       "      <td>27.826087</td>\n",
       "    </tr>\n",
       "    <tr>\n",
       "      <th>4</th>\n",
       "      <td>965</td>\n",
       "      <td>35</td>\n",
       "      <td>51</td>\n",
       "      <td>947</td>\n",
       "      <td>42.029412</td>\n",
       "    </tr>\n",
       "    <tr>\n",
       "      <th>5</th>\n",
       "      <td>33</td>\n",
       "      <td>19</td>\n",
       "      <td>46</td>\n",
       "      <td>30</td>\n",
       "      <td>38.970588</td>\n",
       "    </tr>\n",
       "    <tr>\n",
       "      <th>6</th>\n",
       "      <td>75</td>\n",
       "      <td>26</td>\n",
       "      <td>46</td>\n",
       "      <td>63</td>\n",
       "      <td>38.840580</td>\n",
       "    </tr>\n",
       "    <tr>\n",
       "      <th>7</th>\n",
       "      <td>58</td>\n",
       "      <td>15</td>\n",
       "      <td>46</td>\n",
       "      <td>52</td>\n",
       "      <td>34.059701</td>\n",
       "    </tr>\n",
       "    <tr>\n",
       "      <th>8</th>\n",
       "      <td>904</td>\n",
       "      <td>35</td>\n",
       "      <td>46</td>\n",
       "      <td>888</td>\n",
       "      <td>34.102941</td>\n",
       "    </tr>\n",
       "    <tr>\n",
       "      <th>9</th>\n",
       "      <td>141</td>\n",
       "      <td>12</td>\n",
       "      <td>46</td>\n",
       "      <td>140</td>\n",
       "      <td>34.000000</td>\n",
       "    </tr>\n",
       "  </tbody>\n",
       "</table>\n",
       "</div>"
      ],
      "text/plain": [
       "   Arrival_delay  Dwell_time  Scheduled_travel_time  Upstream_stop_delay  \\\n",
       "0            -23           0                     39                   -4   \n",
       "1            168           0                     39                  181   \n",
       "2            231           0                     39                  244   \n",
       "3            150          17                     39                  143   \n",
       "4            965          35                     51                  947   \n",
       "5             33          19                     46                   30   \n",
       "6             75          26                     46                   63   \n",
       "7             58          15                     46                   52   \n",
       "8            904          35                     46                  888   \n",
       "9            141          12                     46                  140   \n",
       "\n",
       "   Recurrent_delay  \n",
       "0        28.641509  \n",
       "1        27.880597  \n",
       "2        27.852941  \n",
       "3        27.826087  \n",
       "4        42.029412  \n",
       "5        38.970588  \n",
       "6        38.840580  \n",
       "7        34.059701  \n",
       "8        34.102941  \n",
       "9        34.000000  "
      ]
     },
     "execution_count": 6,
     "metadata": {},
     "output_type": "execute_result"
    }
   ],
   "source": [
    "df = df.drop(['Arrival_time','Stop_id','Bus_id','Line_id'], axis=1)\n",
    "df.head(10)"
   ]
  },
  {
   "cell_type": "code",
   "execution_count": 10,
   "id": "d8115337",
   "metadata": {},
   "outputs": [
    {
     "data": {
      "text/plain": [
       "0.9938634029704166"
      ]
     },
     "execution_count": 10,
     "metadata": {},
     "output_type": "execute_result"
    }
   ],
   "source": [
    "x = df.drop(['Arrival_delay'], axis=1)\n",
    "y = df['Arrival_delay']\n",
    "\n",
    "model = LinearRegression()\n",
    "cross_val_score(model, x, y, cv=5).mean()"
   ]
  }
 ],
 "metadata": {
  "kernelspec": {
   "display_name": "Python 3 (ipykernel)",
   "language": "python",
   "name": "python3"
  },
  "language_info": {
   "codemirror_mode": {
    "name": "ipython",
    "version": 3
   },
   "file_extension": ".py",
   "mimetype": "text/x-python",
   "name": "python",
   "nbconvert_exporter": "python",
   "pygments_lexer": "ipython3",
   "version": "3.9.7"
  }
 },
 "nbformat": 4,
 "nbformat_minor": 5
}
