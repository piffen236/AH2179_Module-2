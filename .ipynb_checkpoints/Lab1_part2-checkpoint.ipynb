{
 "cells": [
  {
   "cell_type": "markdown",
   "id": "fd3ce437",
   "metadata": {},
   "source": [
    "# Load in Libraries"
   ]
  },
  {
   "cell_type": "code",
   "execution_count": 1,
   "id": "29460cf1",
   "metadata": {},
   "outputs": [],
   "source": [
    "import numpy as np\n",
    "from numpy import absolute\n",
    "from sklearn.model_selection import cross_val_score\n",
    "from sklearn.metrics import mean_squared_error as MSE\n",
    "\n",
    "# Manage DataFrames\n",
    "import pandas as pd\n",
    "\n",
    "# Visualize\n",
    "import matplotlib.pyplot as plt\n",
    "import seaborn as sns\n",
    "import matplotlib.pyplot as plt\n",
    "\n",
    "# Regression model\n",
    "from sklearn.linear_model import LinearRegression\n",
    "from sklearn.model_selection import cross_val_score, train_test_split\n",
    "from sklearn.metrics import mean_absolute_error, mean_squared_error, r2_score\n",
    "\n",
    "import xgboost as xgb\n",
    "from xgboost import XGBRegressor\n",
    "\n",
    "from sklearn.model_selection import RepeatedKFold\n",
    "\n",
    "# Normalize\n",
    "from sklearn.preprocessing import StandardScaler\n",
    "\n",
    "# Gridsearch\n",
    "\n",
    "from sklearn.model_selection import GridSearchCV\n",
    "from sklearn.svm import SVR"
   ]
  },
  {
   "cell_type": "markdown",
   "id": "79f1d5b2",
   "metadata": {},
   "source": [
    "Load in Data and define x,y"
   ]
  },
  {
   "cell_type": "code",
   "execution_count": 2,
   "id": "ece2f26f",
   "metadata": {},
   "outputs": [],
   "source": [
    "df = pd.read_csv(\"Exercise2BusData.csv\")\n"
   ]
  },
  {
   "cell_type": "code",
   "execution_count": 3,
   "id": "02d938c8",
   "metadata": {},
   "outputs": [
    {
     "data": {
      "text/html": [
       "<div>\n",
       "<style scoped>\n",
       "    .dataframe tbody tr th:only-of-type {\n",
       "        vertical-align: middle;\n",
       "    }\n",
       "\n",
       "    .dataframe tbody tr th {\n",
       "        vertical-align: top;\n",
       "    }\n",
       "\n",
       "    .dataframe thead th {\n",
       "        text-align: right;\n",
       "    }\n",
       "</style>\n",
       "<table border=\"1\" class=\"dataframe\">\n",
       "  <thead>\n",
       "    <tr style=\"text-align: right;\">\n",
       "      <th></th>\n",
       "      <th>Arrival_delay</th>\n",
       "      <th>Dwell_time</th>\n",
       "      <th>Scheduled_travel_time</th>\n",
       "      <th>Upstream_stop_delay</th>\n",
       "      <th>Recurrent_delay</th>\n",
       "    </tr>\n",
       "  </thead>\n",
       "  <tbody>\n",
       "    <tr>\n",
       "      <th>0</th>\n",
       "      <td>-23</td>\n",
       "      <td>0</td>\n",
       "      <td>39</td>\n",
       "      <td>-4</td>\n",
       "      <td>28.641509</td>\n",
       "    </tr>\n",
       "    <tr>\n",
       "      <th>1</th>\n",
       "      <td>168</td>\n",
       "      <td>0</td>\n",
       "      <td>39</td>\n",
       "      <td>181</td>\n",
       "      <td>27.880597</td>\n",
       "    </tr>\n",
       "    <tr>\n",
       "      <th>2</th>\n",
       "      <td>231</td>\n",
       "      <td>0</td>\n",
       "      <td>39</td>\n",
       "      <td>244</td>\n",
       "      <td>27.852941</td>\n",
       "    </tr>\n",
       "    <tr>\n",
       "      <th>3</th>\n",
       "      <td>150</td>\n",
       "      <td>17</td>\n",
       "      <td>39</td>\n",
       "      <td>143</td>\n",
       "      <td>27.826087</td>\n",
       "    </tr>\n",
       "    <tr>\n",
       "      <th>4</th>\n",
       "      <td>965</td>\n",
       "      <td>35</td>\n",
       "      <td>51</td>\n",
       "      <td>947</td>\n",
       "      <td>42.029412</td>\n",
       "    </tr>\n",
       "    <tr>\n",
       "      <th>...</th>\n",
       "      <td>...</td>\n",
       "      <td>...</td>\n",
       "      <td>...</td>\n",
       "      <td>...</td>\n",
       "      <td>...</td>\n",
       "    </tr>\n",
       "    <tr>\n",
       "      <th>2174</th>\n",
       "      <td>123</td>\n",
       "      <td>10</td>\n",
       "      <td>51</td>\n",
       "      <td>128</td>\n",
       "      <td>34.189873</td>\n",
       "    </tr>\n",
       "    <tr>\n",
       "      <th>2175</th>\n",
       "      <td>78</td>\n",
       "      <td>0</td>\n",
       "      <td>51</td>\n",
       "      <td>95</td>\n",
       "      <td>34.197531</td>\n",
       "    </tr>\n",
       "    <tr>\n",
       "      <th>2176</th>\n",
       "      <td>86</td>\n",
       "      <td>23</td>\n",
       "      <td>51</td>\n",
       "      <td>82</td>\n",
       "      <td>35.414634</td>\n",
       "    </tr>\n",
       "    <tr>\n",
       "      <th>2177</th>\n",
       "      <td>121</td>\n",
       "      <td>10</td>\n",
       "      <td>51</td>\n",
       "      <td>119</td>\n",
       "      <td>35.373494</td>\n",
       "    </tr>\n",
       "    <tr>\n",
       "      <th>2178</th>\n",
       "      <td>477</td>\n",
       "      <td>21</td>\n",
       "      <td>51</td>\n",
       "      <td>473</td>\n",
       "      <td>35.464286</td>\n",
       "    </tr>\n",
       "  </tbody>\n",
       "</table>\n",
       "<p>2179 rows × 5 columns</p>\n",
       "</div>"
      ],
      "text/plain": [
       "      Arrival_delay  Dwell_time  Scheduled_travel_time  Upstream_stop_delay  \\\n",
       "0               -23           0                     39                   -4   \n",
       "1               168           0                     39                  181   \n",
       "2               231           0                     39                  244   \n",
       "3               150          17                     39                  143   \n",
       "4               965          35                     51                  947   \n",
       "...             ...         ...                    ...                  ...   \n",
       "2174            123          10                     51                  128   \n",
       "2175             78           0                     51                   95   \n",
       "2176             86          23                     51                   82   \n",
       "2177            121          10                     51                  119   \n",
       "2178            477          21                     51                  473   \n",
       "\n",
       "      Recurrent_delay  \n",
       "0           28.641509  \n",
       "1           27.880597  \n",
       "2           27.852941  \n",
       "3           27.826087  \n",
       "4           42.029412  \n",
       "...               ...  \n",
       "2174        34.189873  \n",
       "2175        34.197531  \n",
       "2176        35.414634  \n",
       "2177        35.373494  \n",
       "2178        35.464286  \n",
       "\n",
       "[2179 rows x 5 columns]"
      ]
     },
     "execution_count": 3,
     "metadata": {},
     "output_type": "execute_result"
    }
   ],
   "source": [
    "df = df.drop(['Arrival_time','Stop_id','Bus_id','Line_id'], axis=1)\n",
    "df.head(10000)"
   ]
  },
  {
   "cell_type": "markdown",
   "id": "6f55c134",
   "metadata": {},
   "source": [
    "Remove outlier"
   ]
  },
  {
   "cell_type": "code",
   "execution_count": 4,
   "id": "9e9aed42",
   "metadata": {},
   "outputs": [
    {
     "data": {
      "text/plain": [
       "<AxesSubplot:xlabel='Arrival_delay'>"
      ]
     },
     "execution_count": 4,
     "metadata": {},
     "output_type": "execute_result"
    },
    {
     "data": {
      "image/png": "[encoded data removed]",
      "text/plain": [
       "<Figure size 432x288 with 1 Axes>"
      ]
     },
     "metadata": {
      "needs_background": "light"
     },
     "output_type": "display_data"
    }
   ],
   "source": [
    "sns.boxplot(x=df['Arrival_delay'])"
   ]
  },
  {
   "cell_type": "code",
   "execution_count": 5,
   "id": "20c07741",
   "metadata": {},
   "outputs": [
    {
     "data": {
      "text/html": [
       "<div>\n",
       "<style scoped>\n",
       "    .dataframe tbody tr th:only-of-type {\n",
       "        vertical-align: middle;\n",
       "    }\n",
       "\n",
       "    .dataframe tbody tr th {\n",
       "        vertical-align: top;\n",
       "    }\n",
       "\n",
       "    .dataframe thead th {\n",
       "        text-align: right;\n",
       "    }\n",
       "</style>\n",
       "<table border=\"1\" class=\"dataframe\">\n",
       "  <thead>\n",
       "    <tr style=\"text-align: right;\">\n",
       "      <th></th>\n",
       "      <th>0</th>\n",
       "    </tr>\n",
       "  </thead>\n",
       "  <tbody>\n",
       "    <tr>\n",
       "      <th>count</th>\n",
       "      <td>42.000000</td>\n",
       "    </tr>\n",
       "    <tr>\n",
       "      <th>mean</th>\n",
       "      <td>912.023810</td>\n",
       "    </tr>\n",
       "    <tr>\n",
       "      <th>std</th>\n",
       "      <td>130.717623</td>\n",
       "    </tr>\n",
       "    <tr>\n",
       "      <th>min</th>\n",
       "      <td>761.000000</td>\n",
       "    </tr>\n",
       "    <tr>\n",
       "      <th>25%</th>\n",
       "      <td>812.500000</td>\n",
       "    </tr>\n",
       "    <tr>\n",
       "      <th>50%</th>\n",
       "      <td>872.000000</td>\n",
       "    </tr>\n",
       "    <tr>\n",
       "      <th>75%</th>\n",
       "      <td>980.750000</td>\n",
       "    </tr>\n",
       "    <tr>\n",
       "      <th>max</th>\n",
       "      <td>1365.000000</td>\n",
       "    </tr>\n",
       "  </tbody>\n",
       "</table>\n",
       "</div>"
      ],
      "text/plain": [
       "                 0\n",
       "count    42.000000\n",
       "mean    912.023810\n",
       "std     130.717623\n",
       "min     761.000000\n",
       "25%     812.500000\n",
       "50%     872.000000\n",
       "75%     980.750000\n",
       "max    1365.000000"
      ]
     },
     "execution_count": 5,
     "metadata": {},
     "output_type": "execute_result"
    }
   ],
   "source": [
    "n=42131\n",
    "std2019=df['Arrival_delay'].std()\n",
    "mean=df['Arrival_delay'].mean()\n",
    "\n",
    "outliers=[]\n",
    "for i in df['Arrival_delay']:\n",
    "    z=abs((i-mean)/std2019)\n",
    "    if z > 3:\n",
    "        outliers.append(i)\n",
    "        df.drop(df[df[\"Arrival_delay\"]==i].index, inplace=True)\n",
    "        \n",
    "\n",
    "outliers=pd.DataFrame(outliers)\n",
    "outliers.describe()"
   ]
  },
  {
   "cell_type": "code",
   "execution_count": 6,
   "id": "aa10f676",
   "metadata": {},
   "outputs": [],
   "source": [
    "x = df.drop(['Arrival_delay'], axis=1)\n",
    "y = df['Arrival_delay']\n",
    "# Feature Engineering\n",
    "df['Dwell_Scheduled_ratio'] = df['Dwell_time'] / df['Scheduled_travel_time']\n",
    "df['Upstream_Scheduled_ratio'] = df['Upstream_stop_delay'] / df['Scheduled_travel_time']\n",
    "df['Total_Upstream_Recurrent'] = df['Upstream_stop_delay'] + df['Recurrent_delay']\n",
    "\n",
    "# Splitting\n",
    "train_X, test_X, train_y, test_y = train_test_split(x, y,\n",
    "                      test_size = 0.20, random_state = 123)\n",
    "\n",
    "scaler = StandardScaler()\n",
    "train_X_scaled = scaler.fit_transform(train_X)\n",
    "test_X_scaled = scaler.transform(test_X)\n"
   ]
  },
  {
   "cell_type": "raw",
   "id": "786656d6",
   "metadata": {},
   "source": [
    "Create Model"
   ]
  },
  {
   "cell_type": "code",
   "execution_count": 7,
   "id": "3fa9e4f6",
   "metadata": {},
   "outputs": [
    {
     "name": "stdout",
     "output_type": "stream",
     "text": [
      "Fitting 5 folds for each of 27 candidates, totalling 135 fits\n",
      "Best RMSE: 13.577898121089042\n",
      "Best Parameters: {'eta': 0.05, 'max_depth': 1, 'n_estimators': 2000}\n"
     ]
    }
   ],
   "source": [
    "param_grid = {\n",
    "    'n_estimators': [50, 100, 2000], # Number of trees\n",
    "    'max_depth': [1, 3, 9], # depth of each tree\n",
    "    'eta': [0.01, 0.05, 0.3] # learning rate\n",
    "}\n",
    "# creating the model\n",
    "xgb_model = XGBRegressor()\n",
    "# using the grid parameters\n",
    "grid_search = GridSearchCV(estimator=xgb_model, param_grid=param_grid, cv=5, n_jobs=-1, verbose=2)\n",
    "\n",
    "# grid search to the data\n",
    "grid_search.fit(train_X_scaled, train_y)\n",
    "\n",
    "# best parameters and best estimator from the grid search\n",
    "best_params = grid_search.best_params_\n",
    "best_model = grid_search.best_estimator_\n",
    "\n",
    "# Predict using the best model\n",
    "best_pred = best_model.predict(test_X_scaled)\n",
    "\n",
    "# Compute RMSE\n",
    "best_rmse = np.sqrt(MSE(test_y, best_pred))\n",
    "print(\"Best RMSE:\", best_rmse)\n",
    "\n",
    "# Print the best parameters\n",
    "print(\"Best Parameters:\", best_params)\n"
   ]
  },
  {
   "cell_type": "code",
   "execution_count": 8,
   "id": "dcfa704d",
   "metadata": {},
   "outputs": [
    {
     "data": {
      "image/png": "[encoded data removed]",
      "text/plain": [
       "<Figure size 576x432 with 1 Axes>"
      ]
     },
     "metadata": {
      "needs_background": "light"
     },
     "output_type": "display_data"
    }
   ],
   "source": [
    "pred=best_pred\n",
    "# Create a scatter plot to visualize the relationship\n",
    "plt.figure(figsize=(8, 6))\n",
    "plt.scatter(test_y, pred, alpha=0.5)  # Plot actual vs. predicted values\n",
    "\n",
    "# Add labels and title\n",
    "plt.xlabel(\"Actual Values\")\n",
    "plt.ylabel(\"Predicted Values\")\n",
    "plt.title(\"Actual vs. Predicted Values\")\n",
    "\n",
    "# Add a diagonal line for reference (perfect predictions)\n",
    "plt.plot([min(test_y), max(test_y)], [min(test_y), max(test_y)], linestyle='-', color='red', lw=2)\n",
    "\n",
    "# Show the plot\n",
    "plt.show()"
   ]
  },
  {
   "cell_type": "code",
   "execution_count": null,
   "id": "1e28fa62",
   "metadata": {},
   "outputs": [],
   "source": []
  }
 ],
 "metadata": {
  "kernelspec": {
   "display_name": "Python 3 (ipykernel)",
   "language": "python",
   "name": "python3"
  },
  "language_info": {
   "codemirror_mode": {
    "name": "ipython",
    "version": 3
   },
   "file_extension": ".py",
   "mimetype": "text/x-python",
   "name": "python",
   "nbconvert_exporter": "python",
   "pygments_lexer": "ipython3",
   "version": "3.9.7"
  }
 },
 "nbformat": 4,
 "nbformat_minor": 5
}
