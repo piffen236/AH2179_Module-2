{
 "cells": [
  {
   "cell_type": "code",
   "execution_count": 13,
   "id": "a7520f1f",
   "metadata": {},
   "outputs": [],
   "source": [
    "# Manage DataFrames\n",
    "import pandas as pd\n",
    "\n",
    "# Visualize\n",
    "import matplotlib.pyplot as plt\n",
    "import seaborn as sns\n",
    "import matplotlib.pyplot as plt\n",
    "\n",
    "# Regression model\n",
    "from sklearn.linear_model import LinearRegression\n",
    "from sklearn.model_selection import cross_val_score, train_test_split\n",
    "from sklearn.metrics import mean_absolute_error, mean_squared_error, r2_score\n",
    "\n",
    "import xgboost as xgb\n",
    "\n",
    "# Normalize\n",
    "from sklearn.preprocessing import StandardScaler\n",
    "\n",
    "# Gridsearch\n",
    "\n",
    "from sklearn.model_selection import GridSearchCV\n",
    "from sklearn.svm import SVR"
   ]
  },
  {
   "cell_type": "code",
   "execution_count": 2,
   "id": "eb453aa3",
   "metadata": {},
   "outputs": [],
   "source": [
    "df = pd.read_csv(\"Exercise2BusData.csv\")\n",
    "df_optional = pd.read_csv(\"Exercise2Optional.csv\")"
   ]
  },
  {
   "cell_type": "code",
   "execution_count": 3,
   "id": "d381e528",
   "metadata": {},
   "outputs": [
    {
     "data": {
      "text/html": [
       "<div>\n",
       "<style scoped>\n",
       "    .dataframe tbody tr th:only-of-type {\n",
       "        vertical-align: middle;\n",
       "    }\n",
       "\n",
       "    .dataframe tbody tr th {\n",
       "        vertical-align: top;\n",
       "    }\n",
       "\n",
       "    .dataframe thead th {\n",
       "        text-align: right;\n",
       "    }\n",
       "</style>\n",
       "<table border=\"1\" class=\"dataframe\">\n",
       "  <thead>\n",
       "    <tr style=\"text-align: right;\">\n",
       "      <th></th>\n",
       "      <th>Arrival_delay</th>\n",
       "      <th>Dwell_time</th>\n",
       "      <th>Scheduled_travel_time</th>\n",
       "      <th>Upstream_stop_delay</th>\n",
       "      <th>Recurrent_delay</th>\n",
       "    </tr>\n",
       "  </thead>\n",
       "  <tbody>\n",
       "    <tr>\n",
       "      <th>0</th>\n",
       "      <td>-23</td>\n",
       "      <td>0</td>\n",
       "      <td>39</td>\n",
       "      <td>-4</td>\n",
       "      <td>28.641509</td>\n",
       "    </tr>\n",
       "    <tr>\n",
       "      <th>1</th>\n",
       "      <td>168</td>\n",
       "      <td>0</td>\n",
       "      <td>39</td>\n",
       "      <td>181</td>\n",
       "      <td>27.880597</td>\n",
       "    </tr>\n",
       "    <tr>\n",
       "      <th>2</th>\n",
       "      <td>231</td>\n",
       "      <td>0</td>\n",
       "      <td>39</td>\n",
       "      <td>244</td>\n",
       "      <td>27.852941</td>\n",
       "    </tr>\n",
       "    <tr>\n",
       "      <th>3</th>\n",
       "      <td>150</td>\n",
       "      <td>17</td>\n",
       "      <td>39</td>\n",
       "      <td>143</td>\n",
       "      <td>27.826087</td>\n",
       "    </tr>\n",
       "    <tr>\n",
       "      <th>4</th>\n",
       "      <td>965</td>\n",
       "      <td>35</td>\n",
       "      <td>51</td>\n",
       "      <td>947</td>\n",
       "      <td>42.029412</td>\n",
       "    </tr>\n",
       "    <tr>\n",
       "      <th>5</th>\n",
       "      <td>33</td>\n",
       "      <td>19</td>\n",
       "      <td>46</td>\n",
       "      <td>30</td>\n",
       "      <td>38.970588</td>\n",
       "    </tr>\n",
       "    <tr>\n",
       "      <th>6</th>\n",
       "      <td>75</td>\n",
       "      <td>26</td>\n",
       "      <td>46</td>\n",
       "      <td>63</td>\n",
       "      <td>38.840580</td>\n",
       "    </tr>\n",
       "    <tr>\n",
       "      <th>7</th>\n",
       "      <td>58</td>\n",
       "      <td>15</td>\n",
       "      <td>46</td>\n",
       "      <td>52</td>\n",
       "      <td>34.059701</td>\n",
       "    </tr>\n",
       "    <tr>\n",
       "      <th>8</th>\n",
       "      <td>904</td>\n",
       "      <td>35</td>\n",
       "      <td>46</td>\n",
       "      <td>888</td>\n",
       "      <td>34.102941</td>\n",
       "    </tr>\n",
       "  </tbody>\n",
       "</table>\n",
       "</div>"
      ],
      "text/plain": [
       "   Arrival_delay  Dwell_time  Scheduled_travel_time  Upstream_stop_delay  \\\n",
       "0            -23           0                     39                   -4   \n",
       "1            168           0                     39                  181   \n",
       "2            231           0                     39                  244   \n",
       "3            150          17                     39                  143   \n",
       "4            965          35                     51                  947   \n",
       "5             33          19                     46                   30   \n",
       "6             75          26                     46                   63   \n",
       "7             58          15                     46                   52   \n",
       "8            904          35                     46                  888   \n",
       "\n",
       "   Recurrent_delay  \n",
       "0        28.641509  \n",
       "1        27.880597  \n",
       "2        27.852941  \n",
       "3        27.826087  \n",
       "4        42.029412  \n",
       "5        38.970588  \n",
       "6        38.840580  \n",
       "7        34.059701  \n",
       "8        34.102941  "
      ]
     },
     "execution_count": 3,
     "metadata": {},
     "output_type": "execute_result"
    }
   ],
   "source": [
    "df = df.drop(['Arrival_time','Stop_id','Bus_id','Line_id'], axis=1)\n",
    "df.head(9)"
   ]
  },
  {
   "cell_type": "code",
   "execution_count": 4,
   "id": "7633c66d",
   "metadata": {},
   "outputs": [
    {
     "data": {
      "text/html": [
       "<div>\n",
       "<style scoped>\n",
       "    .dataframe tbody tr th:only-of-type {\n",
       "        vertical-align: middle;\n",
       "    }\n",
       "\n",
       "    .dataframe tbody tr th {\n",
       "        vertical-align: top;\n",
       "    }\n",
       "\n",
       "    .dataframe thead th {\n",
       "        text-align: right;\n",
       "    }\n",
       "</style>\n",
       "<table border=\"1\" class=\"dataframe\">\n",
       "  <thead>\n",
       "    <tr style=\"text-align: right;\">\n",
       "      <th></th>\n",
       "      <th>Arrival_delay</th>\n",
       "      <th>Dwell_time</th>\n",
       "      <th>Scheduled_travel_time</th>\n",
       "      <th>Upstream_stop_delay</th>\n",
       "      <th>Recurrent_delay</th>\n",
       "    </tr>\n",
       "  </thead>\n",
       "  <tbody>\n",
       "    <tr>\n",
       "      <th>0</th>\n",
       "      <td>69</td>\n",
       "      <td>0</td>\n",
       "      <td>82</td>\n",
       "      <td>33</td>\n",
       "      <td>99.925373</td>\n",
       "    </tr>\n",
       "    <tr>\n",
       "      <th>1</th>\n",
       "      <td>35</td>\n",
       "      <td>0</td>\n",
       "      <td>82</td>\n",
       "      <td>52</td>\n",
       "      <td>100.191176</td>\n",
       "    </tr>\n",
       "    <tr>\n",
       "      <th>2</th>\n",
       "      <td>7</td>\n",
       "      <td>0</td>\n",
       "      <td>82</td>\n",
       "      <td>10</td>\n",
       "      <td>99.681159</td>\n",
       "    </tr>\n",
       "    <tr>\n",
       "      <th>3</th>\n",
       "      <td>74</td>\n",
       "      <td>15</td>\n",
       "      <td>82</td>\n",
       "      <td>27</td>\n",
       "      <td>99.385714</td>\n",
       "    </tr>\n",
       "    <tr>\n",
       "      <th>4</th>\n",
       "      <td>-3</td>\n",
       "      <td>0</td>\n",
       "      <td>109</td>\n",
       "      <td>17</td>\n",
       "      <td>116.298507</td>\n",
       "    </tr>\n",
       "  </tbody>\n",
       "</table>\n",
       "</div>"
      ],
      "text/plain": [
       "   Arrival_delay  Dwell_time  Scheduled_travel_time  Upstream_stop_delay  \\\n",
       "0             69           0                     82                   33   \n",
       "1             35           0                     82                   52   \n",
       "2              7           0                     82                   10   \n",
       "3             74          15                     82                   27   \n",
       "4             -3           0                    109                   17   \n",
       "\n",
       "   Recurrent_delay  \n",
       "0        99.925373  \n",
       "1       100.191176  \n",
       "2        99.681159  \n",
       "3        99.385714  \n",
       "4       116.298507  "
      ]
     },
     "execution_count": 4,
     "metadata": {},
     "output_type": "execute_result"
    }
   ],
   "source": [
    "df_optional = df_optional.drop(['Arrival_time','Stop_id','Bus_id','Line_id'], axis=1)\n",
    "df_optional.head(5)"
   ]
  },
  {
   "cell_type": "code",
   "execution_count": 5,
   "id": "08d229fb",
   "metadata": {},
   "outputs": [
    {
     "data": {
      "text/plain": [
       "0.9938634029704166"
      ]
     },
     "execution_count": 5,
     "metadata": {},
     "output_type": "execute_result"
    }
   ],
   "source": [
    "x = df.drop(['Arrival_delay'], axis=1)\n",
    "y = df['Arrival_delay']\n",
    "\n",
    "model = LinearRegression()\n",
    "cross_val_score(model, x, y, cv=5).mean()"
   ]
  },
  {
   "cell_type": "code",
   "execution_count": 6,
   "id": "043ad9ed",
   "metadata": {},
   "outputs": [
    {
     "data": {
      "image/png": "[encoded data removed]",
      "text/plain": [
       "<Figure size 576x432 with 1 Axes>"
      ]
     },
     "metadata": {
      "needs_background": "light"
     },
     "output_type": "display_data"
    }
   ],
   "source": [
    "X_train, X_test, y_train, y_test = train_test_split(x, y, test_size=0.2, random_state=42)\n",
    "\n",
    "# Fit the model to the training data\n",
    "model.fit(X_train, y_train)\n",
    "y_pred = model.predict(X_test)\n",
    "\n",
    "# Create a scatter plot to visualize the relationship\n",
    "plt.figure(figsize=(8, 6))\n",
    "plt.scatter(y_test, y_pred, alpha=0.5)  # Plot actual vs. predicted values\n",
    "\n",
    "# Add labels and title\n",
    "plt.xlabel(\"Actual Values\")\n",
    "plt.ylabel(\"Predicted Values\")\n",
    "plt.title(\"Actual vs. Predicted Values\")\n",
    "\n",
    "# Add a diagonal line for reference (perfect predictions)\n",
    "plt.plot([min(y_test), max(y_test)], [min(y_test), max(y_test)], linestyle='-', color='red', lw=2)\n",
    "\n",
    "# Show the plot\n",
    "plt.show()"
   ]
  },
  {
   "cell_type": "code",
   "execution_count": 7,
   "id": "004753be",
   "metadata": {},
   "outputs": [
    {
     "name": "stdout",
     "output_type": "stream",
     "text": [
      "Mean Absolute Error: 9.654193995146551\n",
      "Mean Squared Error: 176.37353876761952\n",
      "R-squared: 0.9940853862137997\n"
     ]
    }
   ],
   "source": [
    "\n",
    "\n",
    "\n",
    "\n",
    "mae = mean_absolute_error(y_test, y_pred)\n",
    "mse = mean_squared_error(y_test, y_pred)\n",
    "r2 = r2_score(y_test, y_pred)\n",
    "\n",
    "print(f\"Mean Absolute Error: {mae}\")\n",
    "print(f\"Mean Squared Error: {mse}\")\n",
    "print(f\"R-squared: {r2}\")"
   ]
  },
  {
   "cell_type": "markdown",
   "id": "dc865107",
   "metadata": {},
   "source": [
    "# SVM "
   ]
  },
  {
   "cell_type": "code",
   "execution_count": 8,
   "id": "30dc3c99",
   "metadata": {},
   "outputs": [
    {
     "name": "stdout",
     "output_type": "stream",
     "text": [
      "Fitting 5 folds for each of 36 candidates, totalling 180 fits\n",
      "[CV] END .................C=0.1, epsilon=0.01, kernel=linear; total time=   0.1s\n",
      "[CV] END .................C=0.1, epsilon=0.01, kernel=linear; total time=   0.1s\n",
      "[CV] END .................C=0.1, epsilon=0.01, kernel=linear; total time=   0.1s\n",
      "[CV] END .................C=0.1, epsilon=0.01, kernel=linear; total time=   0.1s\n",
      "[CV] END .................C=0.1, epsilon=0.01, kernel=linear; total time=   0.1s\n",
      "[CV] END ...................C=0.1, epsilon=0.01, kernel=poly; total time=   0.1s\n",
      "[CV] END ...................C=0.1, epsilon=0.01, kernel=poly; total time=   0.1s\n",
      "[CV] END ...................C=0.1, epsilon=0.01, kernel=poly; total time=   0.1s\n",
      "[CV] END ...................C=0.1, epsilon=0.01, kernel=poly; total time=   0.1s\n",
      "[CV] END ...................C=0.1, epsilon=0.01, kernel=poly; total time=   0.1s\n",
      "[CV] END ....................C=0.1, epsilon=0.01, kernel=rbf; total time=   0.2s\n",
      "[CV] END ....................C=0.1, epsilon=0.01, kernel=rbf; total time=   0.2s\n",
      "[CV] END ....................C=0.1, epsilon=0.01, kernel=rbf; total time=   0.2s\n",
      "[CV] END ....................C=0.1, epsilon=0.01, kernel=rbf; total time=   0.2s\n",
      "[CV] END ....................C=0.1, epsilon=0.01, kernel=rbf; total time=   0.2s\n",
      "[CV] END ..................C=0.1, epsilon=0.1, kernel=linear; total time=   0.1s\n",
      "[CV] END ..................C=0.1, epsilon=0.1, kernel=linear; total time=   0.1s\n",
      "[CV] END ..................C=0.1, epsilon=0.1, kernel=linear; total time=   0.1s\n",
      "[CV] END ..................C=0.1, epsilon=0.1, kernel=linear; total time=   0.1s\n",
      "[CV] END ..................C=0.1, epsilon=0.1, kernel=linear; total time=   0.1s\n",
      "[CV] END ....................C=0.1, epsilon=0.1, kernel=poly; total time=   0.1s\n",
      "[CV] END ....................C=0.1, epsilon=0.1, kernel=poly; total time=   0.1s\n",
      "[CV] END ....................C=0.1, epsilon=0.1, kernel=poly; total time=   0.1s\n",
      "[CV] END ....................C=0.1, epsilon=0.1, kernel=poly; total time=   0.1s\n",
      "[CV] END ....................C=0.1, epsilon=0.1, kernel=poly; total time=   0.1s\n",
      "[CV] END .....................C=0.1, epsilon=0.1, kernel=rbf; total time=   0.2s\n",
      "[CV] END .....................C=0.1, epsilon=0.1, kernel=rbf; total time=   0.2s\n",
      "[CV] END .....................C=0.1, epsilon=0.1, kernel=rbf; total time=   0.2s\n",
      "[CV] END .....................C=0.1, epsilon=0.1, kernel=rbf; total time=   0.2s\n",
      "[CV] END .....................C=0.1, epsilon=0.1, kernel=rbf; total time=   0.2s\n",
      "[CV] END ....................C=0.1, epsilon=1, kernel=linear; total time=   0.1s\n",
      "[CV] END ....................C=0.1, epsilon=1, kernel=linear; total time=   0.1s\n",
      "[CV] END ....................C=0.1, epsilon=1, kernel=linear; total time=   0.1s\n",
      "[CV] END ....................C=0.1, epsilon=1, kernel=linear; total time=   0.1s\n",
      "[CV] END ....................C=0.1, epsilon=1, kernel=linear; total time=   0.1s\n",
      "[CV] END ......................C=0.1, epsilon=1, kernel=poly; total time=   0.1s\n",
      "[CV] END ......................C=0.1, epsilon=1, kernel=poly; total time=   0.1s\n",
      "[CV] END ......................C=0.1, epsilon=1, kernel=poly; total time=   0.1s\n",
      "[CV] END ......................C=0.1, epsilon=1, kernel=poly; total time=   0.1s\n",
      "[CV] END ......................C=0.1, epsilon=1, kernel=poly; total time=   0.1s\n",
      "[CV] END .......................C=0.1, epsilon=1, kernel=rbf; total time=   0.2s\n",
      "[CV] END .......................C=0.1, epsilon=1, kernel=rbf; total time=   0.2s\n",
      "[CV] END .......................C=0.1, epsilon=1, kernel=rbf; total time=   0.2s\n",
      "[CV] END .......................C=0.1, epsilon=1, kernel=rbf; total time=   0.2s\n",
      "[CV] END .......................C=0.1, epsilon=1, kernel=rbf; total time=   0.2s\n",
      "[CV] END ...................C=0.1, epsilon=10, kernel=linear; total time=   0.1s\n",
      "[CV] END ...................C=0.1, epsilon=10, kernel=linear; total time=   0.1s\n",
      "[CV] END ...................C=0.1, epsilon=10, kernel=linear; total time=   0.1s\n",
      "[CV] END ...................C=0.1, epsilon=10, kernel=linear; total time=   0.1s\n",
      "[CV] END ...................C=0.1, epsilon=10, kernel=linear; total time=   0.1s\n",
      "[CV] END .....................C=0.1, epsilon=10, kernel=poly; total time=   0.1s\n",
      "[CV] END .....................C=0.1, epsilon=10, kernel=poly; total time=   0.1s\n",
      "[CV] END .....................C=0.1, epsilon=10, kernel=poly; total time=   0.1s\n",
      "[CV] END .....................C=0.1, epsilon=10, kernel=poly; total time=   0.1s\n",
      "[CV] END .....................C=0.1, epsilon=10, kernel=poly; total time=   0.1s\n",
      "[CV] END ......................C=0.1, epsilon=10, kernel=rbf; total time=   0.2s\n",
      "[CV] END ......................C=0.1, epsilon=10, kernel=rbf; total time=   0.2s\n",
      "[CV] END ......................C=0.1, epsilon=10, kernel=rbf; total time=   0.2s\n",
      "[CV] END ......................C=0.1, epsilon=10, kernel=rbf; total time=   0.2s\n",
      "[CV] END ......................C=0.1, epsilon=10, kernel=rbf; total time=   0.2s\n",
      "[CV] END ...................C=1, epsilon=0.01, kernel=linear; total time=   0.1s\n",
      "[CV] END ...................C=1, epsilon=0.01, kernel=linear; total time=   0.1s\n",
      "[CV] END ...................C=1, epsilon=0.01, kernel=linear; total time=   0.1s\n",
      "[CV] END ...................C=1, epsilon=0.01, kernel=linear; total time=   0.1s\n",
      "[CV] END ...................C=1, epsilon=0.01, kernel=linear; total time=   0.1s\n",
      "[CV] END .....................C=1, epsilon=0.01, kernel=poly; total time=   0.1s\n",
      "[CV] END .....................C=1, epsilon=0.01, kernel=poly; total time=   0.1s\n",
      "[CV] END .....................C=1, epsilon=0.01, kernel=poly; total time=   0.1s\n",
      "[CV] END .....................C=1, epsilon=0.01, kernel=poly; total time=   0.1s\n",
      "[CV] END .....................C=1, epsilon=0.01, kernel=poly; total time=   0.1s\n",
      "[CV] END ......................C=1, epsilon=0.01, kernel=rbf; total time=   0.2s\n",
      "[CV] END ......................C=1, epsilon=0.01, kernel=rbf; total time=   0.2s\n",
      "[CV] END ......................C=1, epsilon=0.01, kernel=rbf; total time=   0.2s\n",
      "[CV] END ......................C=1, epsilon=0.01, kernel=rbf; total time=   0.2s\n",
      "[CV] END ......................C=1, epsilon=0.01, kernel=rbf; total time=   0.2s\n",
      "[CV] END ....................C=1, epsilon=0.1, kernel=linear; total time=   0.1s\n",
      "[CV] END ....................C=1, epsilon=0.1, kernel=linear; total time=   0.1s\n",
      "[CV] END ....................C=1, epsilon=0.1, kernel=linear; total time=   0.1s\n",
      "[CV] END ....................C=1, epsilon=0.1, kernel=linear; total time=   0.1s\n",
      "[CV] END ....................C=1, epsilon=0.1, kernel=linear; total time=   0.1s\n",
      "[CV] END ......................C=1, epsilon=0.1, kernel=poly; total time=   0.1s\n",
      "[CV] END ......................C=1, epsilon=0.1, kernel=poly; total time=   0.1s\n",
      "[CV] END ......................C=1, epsilon=0.1, kernel=poly; total time=   0.1s\n",
      "[CV] END ......................C=1, epsilon=0.1, kernel=poly; total time=   0.1s\n",
      "[CV] END ......................C=1, epsilon=0.1, kernel=poly; total time=   0.1s\n",
      "[CV] END .......................C=1, epsilon=0.1, kernel=rbf; total time=   0.2s\n",
      "[CV] END .......................C=1, epsilon=0.1, kernel=rbf; total time=   0.2s\n",
      "[CV] END .......................C=1, epsilon=0.1, kernel=rbf; total time=   0.2s\n",
      "[CV] END .......................C=1, epsilon=0.1, kernel=rbf; total time=   0.2s\n",
      "[CV] END .......................C=1, epsilon=0.1, kernel=rbf; total time=   0.2s\n",
      "[CV] END ......................C=1, epsilon=1, kernel=linear; total time=   0.1s\n",
      "[CV] END ......................C=1, epsilon=1, kernel=linear; total time=   0.1s\n",
      "[CV] END ......................C=1, epsilon=1, kernel=linear; total time=   0.1s\n",
      "[CV] END ......................C=1, epsilon=1, kernel=linear; total time=   0.1s\n",
      "[CV] END ......................C=1, epsilon=1, kernel=linear; total time=   0.1s\n",
      "[CV] END ........................C=1, epsilon=1, kernel=poly; total time=   0.1s\n",
      "[CV] END ........................C=1, epsilon=1, kernel=poly; total time=   0.1s\n",
      "[CV] END ........................C=1, epsilon=1, kernel=poly; total time=   0.1s\n",
      "[CV] END ........................C=1, epsilon=1, kernel=poly; total time=   0.1s\n",
      "[CV] END ........................C=1, epsilon=1, kernel=poly; total time=   0.1s\n",
      "[CV] END .........................C=1, epsilon=1, kernel=rbf; total time=   0.2s\n"
     ]
    },
    {
     "name": "stdout",
     "output_type": "stream",
     "text": [
      "[CV] END .........................C=1, epsilon=1, kernel=rbf; total time=   0.2s\n",
      "[CV] END .........................C=1, epsilon=1, kernel=rbf; total time=   0.2s\n",
      "[CV] END .........................C=1, epsilon=1, kernel=rbf; total time=   0.2s\n",
      "[CV] END .........................C=1, epsilon=1, kernel=rbf; total time=   0.2s\n",
      "[CV] END .....................C=1, epsilon=10, kernel=linear; total time=   0.1s\n",
      "[CV] END .....................C=1, epsilon=10, kernel=linear; total time=   0.0s\n",
      "[CV] END .....................C=1, epsilon=10, kernel=linear; total time=   0.1s\n",
      "[CV] END .....................C=1, epsilon=10, kernel=linear; total time=   0.1s\n",
      "[CV] END .....................C=1, epsilon=10, kernel=linear; total time=   0.1s\n",
      "[CV] END .......................C=1, epsilon=10, kernel=poly; total time=   0.1s\n",
      "[CV] END .......................C=1, epsilon=10, kernel=poly; total time=   0.1s\n",
      "[CV] END .......................C=1, epsilon=10, kernel=poly; total time=   0.1s\n",
      "[CV] END .......................C=1, epsilon=10, kernel=poly; total time=   0.1s\n",
      "[CV] END .......................C=1, epsilon=10, kernel=poly; total time=   0.1s\n",
      "[CV] END ........................C=1, epsilon=10, kernel=rbf; total time=   0.2s\n",
      "[CV] END ........................C=1, epsilon=10, kernel=rbf; total time=   0.2s\n",
      "[CV] END ........................C=1, epsilon=10, kernel=rbf; total time=   0.2s\n",
      "[CV] END ........................C=1, epsilon=10, kernel=rbf; total time=   0.2s\n",
      "[CV] END ........................C=1, epsilon=10, kernel=rbf; total time=   0.2s\n",
      "[CV] END ..................C=10, epsilon=0.01, kernel=linear; total time=   0.1s\n",
      "[CV] END ..................C=10, epsilon=0.01, kernel=linear; total time=   0.2s\n",
      "[CV] END ..................C=10, epsilon=0.01, kernel=linear; total time=   0.1s\n",
      "[CV] END ..................C=10, epsilon=0.01, kernel=linear; total time=   0.1s\n",
      "[CV] END ..................C=10, epsilon=0.01, kernel=linear; total time=   0.1s\n",
      "[CV] END ....................C=10, epsilon=0.01, kernel=poly; total time=   0.1s\n",
      "[CV] END ....................C=10, epsilon=0.01, kernel=poly; total time=   0.1s\n",
      "[CV] END ....................C=10, epsilon=0.01, kernel=poly; total time=   0.1s\n",
      "[CV] END ....................C=10, epsilon=0.01, kernel=poly; total time=   0.1s\n",
      "[CV] END ....................C=10, epsilon=0.01, kernel=poly; total time=   0.1s\n",
      "[CV] END .....................C=10, epsilon=0.01, kernel=rbf; total time=   0.2s\n",
      "[CV] END .....................C=10, epsilon=0.01, kernel=rbf; total time=   0.2s\n",
      "[CV] END .....................C=10, epsilon=0.01, kernel=rbf; total time=   0.2s\n",
      "[CV] END .....................C=10, epsilon=0.01, kernel=rbf; total time=   0.2s\n",
      "[CV] END .....................C=10, epsilon=0.01, kernel=rbf; total time=   0.2s\n",
      "[CV] END ...................C=10, epsilon=0.1, kernel=linear; total time=   0.1s\n",
      "[CV] END ...................C=10, epsilon=0.1, kernel=linear; total time=   0.1s\n",
      "[CV] END ...................C=10, epsilon=0.1, kernel=linear; total time=   0.1s\n",
      "[CV] END ...................C=10, epsilon=0.1, kernel=linear; total time=   0.1s\n",
      "[CV] END ...................C=10, epsilon=0.1, kernel=linear; total time=   0.1s\n",
      "[CV] END .....................C=10, epsilon=0.1, kernel=poly; total time=   0.1s\n",
      "[CV] END .....................C=10, epsilon=0.1, kernel=poly; total time=   0.1s\n",
      "[CV] END .....................C=10, epsilon=0.1, kernel=poly; total time=   0.1s\n",
      "[CV] END .....................C=10, epsilon=0.1, kernel=poly; total time=   0.1s\n",
      "[CV] END .....................C=10, epsilon=0.1, kernel=poly; total time=   0.1s\n",
      "[CV] END ......................C=10, epsilon=0.1, kernel=rbf; total time=   0.2s\n",
      "[CV] END ......................C=10, epsilon=0.1, kernel=rbf; total time=   0.2s\n",
      "[CV] END ......................C=10, epsilon=0.1, kernel=rbf; total time=   0.2s\n",
      "[CV] END ......................C=10, epsilon=0.1, kernel=rbf; total time=   0.2s\n",
      "[CV] END ......................C=10, epsilon=0.1, kernel=rbf; total time=   0.2s\n",
      "[CV] END .....................C=10, epsilon=1, kernel=linear; total time=   0.2s\n",
      "[CV] END .....................C=10, epsilon=1, kernel=linear; total time=   0.2s\n",
      "[CV] END .....................C=10, epsilon=1, kernel=linear; total time=   0.1s\n",
      "[CV] END .....................C=10, epsilon=1, kernel=linear; total time=   0.2s\n",
      "[CV] END .....................C=10, epsilon=1, kernel=linear; total time=   0.1s\n",
      "[CV] END .......................C=10, epsilon=1, kernel=poly; total time=   0.1s\n",
      "[CV] END .......................C=10, epsilon=1, kernel=poly; total time=   0.1s\n",
      "[CV] END .......................C=10, epsilon=1, kernel=poly; total time=   0.1s\n",
      "[CV] END .......................C=10, epsilon=1, kernel=poly; total time=   0.1s\n",
      "[CV] END .......................C=10, epsilon=1, kernel=poly; total time=   0.1s\n",
      "[CV] END ........................C=10, epsilon=1, kernel=rbf; total time=   0.2s\n",
      "[CV] END ........................C=10, epsilon=1, kernel=rbf; total time=   0.2s\n",
      "[CV] END ........................C=10, epsilon=1, kernel=rbf; total time=   0.2s\n",
      "[CV] END ........................C=10, epsilon=1, kernel=rbf; total time=   0.2s\n",
      "[CV] END ........................C=10, epsilon=1, kernel=rbf; total time=   0.2s\n",
      "[CV] END ....................C=10, epsilon=10, kernel=linear; total time=   0.1s\n",
      "[CV] END ....................C=10, epsilon=10, kernel=linear; total time=   0.1s\n",
      "[CV] END ....................C=10, epsilon=10, kernel=linear; total time=   0.1s\n",
      "[CV] END ....................C=10, epsilon=10, kernel=linear; total time=   0.1s\n",
      "[CV] END ....................C=10, epsilon=10, kernel=linear; total time=   0.1s\n",
      "[CV] END ......................C=10, epsilon=10, kernel=poly; total time=   0.1s\n",
      "[CV] END ......................C=10, epsilon=10, kernel=poly; total time=   0.1s\n",
      "[CV] END ......................C=10, epsilon=10, kernel=poly; total time=   0.1s\n",
      "[CV] END ......................C=10, epsilon=10, kernel=poly; total time=   0.1s\n",
      "[CV] END ......................C=10, epsilon=10, kernel=poly; total time=   0.1s\n",
      "[CV] END .......................C=10, epsilon=10, kernel=rbf; total time=   0.1s\n",
      "[CV] END .......................C=10, epsilon=10, kernel=rbf; total time=   0.1s\n",
      "[CV] END .......................C=10, epsilon=10, kernel=rbf; total time=   0.1s\n",
      "[CV] END .......................C=10, epsilon=10, kernel=rbf; total time=   0.1s\n",
      "[CV] END .......................C=10, epsilon=10, kernel=rbf; total time=   0.1s\n",
      "Best Parameters: {'C': 10, 'epsilon': 10, 'kernel': 'linear'}\n"
     ]
    }
   ],
   "source": [
    "# Normalize the features\n",
    "scaler = StandardScaler()\n",
    "X_train_scaled = scaler.fit_transform(X_train)\n",
    "X_test_scaled = scaler.transform(X_test)\n",
    "\n",
    "# Define a parameter grid for hyperparameter tuning\n",
    "param_grid = {\n",
    "    'kernel': ['linear', 'poly', 'rbf'],\n",
    "    'C': [0.1, 1, 10],\n",
    "    'epsilon': [0.01, 0.1, 1, 10]\n",
    "}\n",
    "\n",
    "# Create the GridSearchCV object\n",
    "grid_search = GridSearchCV(SVR(), param_grid, cv=5, verbose=2, scoring='neg_mean_squared_error')\n",
    "\n",
    "# Fit the grid search to the scaled training data\n",
    "grid_search.fit(X_train_scaled, y_train)\n",
    "\n",
    "# Get the best parameters\n",
    "best_params = grid_search.best_params_\n",
    "print(\"Best Parameters:\", best_params)\n",
    "\n"
   ]
  },
  {
   "cell_type": "code",
   "execution_count": 9,
   "id": "b8c42258",
   "metadata": {},
   "outputs": [
    {
     "name": "stderr",
     "output_type": "stream",
     "text": [
      "[Parallel(n_jobs=1)]: Using backend SequentialBackend with 1 concurrent workers.\n"
     ]
    },
    {
     "name": "stdout",
     "output_type": "stream",
     "text": [
      "[CV] END .................................................... total time=  23.6s\n"
     ]
    },
    {
     "name": "stderr",
     "output_type": "stream",
     "text": [
      "[Parallel(n_jobs=1)]: Done   1 out of   1 | elapsed:   23.6s remaining:    0.0s\n"
     ]
    },
    {
     "name": "stdout",
     "output_type": "stream",
     "text": [
      "[CV] END .................................................... total time=  29.1s\n",
      "[CV] END .................................................... total time=  59.0s\n",
      "[CV] END .................................................... total time=  32.3s\n",
      "[CV] END .................................................... total time=  33.2s\n",
      "0.9938052308412473\n"
     ]
    },
    {
     "name": "stderr",
     "output_type": "stream",
     "text": [
      "[Parallel(n_jobs=1)]: Done   5 out of   5 | elapsed:  3.0min finished\n"
     ]
    },
    {
     "data": {
      "text/plain": [
       "SVR(C=10, epsilon=10, kernel='linear')"
      ]
     },
     "execution_count": 9,
     "metadata": {},
     "output_type": "execute_result"
    }
   ],
   "source": [
    "# Create an SVR model with the best parameters from the grid search\n",
    "best_svr = SVR(kernel=best_params['kernel'], C=best_params['C'], epsilon=best_params['epsilon'])\n",
    "\n",
    "# Perform cross-validation on the entire dataset\n",
    "cv_scores = cross_val_score(best_svr, x , y, cv=5, verbose=2).mean()\n",
    "print(cv_scores)\n",
    "\n",
    "    \n",
    "best_svr.fit(X_train, y_train)"
   ]
  },
  {
   "cell_type": "code",
   "execution_count": 10,
   "id": "c4502844",
   "metadata": {},
   "outputs": [
    {
     "name": "stdout",
     "output_type": "stream",
     "text": [
      "Mean Absolute Error: 9.462433302459806\n",
      "Mean Squared Error: 175.64679314823678\n",
      "R-squared: 0.9941097573280241\n"
     ]
    }
   ],
   "source": [
    "y_pred = best_svr.predict(X_test)\n",
    "mae = mean_absolute_error(y_test, y_pred)\n",
    "mse = mean_squared_error(y_test, y_pred)\n",
    "r2 = r2_score(y_test, y_pred)\n",
    "print(f\"Mean Absolute Error: {mae}\")\n",
    "print(f\"Mean Squared Error: {mse}\")\n",
    "print(f\"R-squared: {r2}\")\n",
    "     \n"
   ]
  },
  {
   "cell_type": "code",
   "execution_count": 12,
   "id": "099bcc67",
   "metadata": {},
   "outputs": [
    {
     "data": {
      "image/png": "[encoded data removed]",
      "text/plain": [
       "<Figure size 576x432 with 1 Axes>"
      ]
     },
     "metadata": {
      "needs_background": "light"
     },
     "output_type": "display_data"
    }
   ],
   "source": [
    "\n",
    "\n",
    "# y_test contains the actual target values for the test dataset\n",
    "# y_pred contains the predicted values for the test dataset\n",
    "\n",
    "# Create a scatter plot to visualize the relationship\n",
    "plt.figure(figsize=(8, 6))\n",
    "plt.scatter(y_test, y_pred, alpha=0.5)  # Plot actual vs. predicted values\n",
    "\n",
    "# Add labels and title\n",
    "plt.xlabel(\"Actual Values\")\n",
    "plt.ylabel(\"Predicted Values\")\n",
    "plt.title(\"Actual vs. Predicted Values\")\n",
    "\n",
    "# Add a diagonal line for reference (perfect predictions)\n",
    "plt.plot([min(y_test), max(y_test)], [min(y_test), max(y_test)], linestyle='-', color='red', lw=2)\n",
    "\n",
    "# Show the plot\n",
    "plt.show()\n",
    "     \n"
   ]
  }
 ],
 "metadata": {
  "kernelspec": {
   "display_name": "Python 3 (ipykernel)",
   "language": "python",
   "name": "python3"
  },
  "language_info": {
   "codemirror_mode": {
    "name": "ipython",
    "version": 3
   },
   "file_extension": ".py",
   "mimetype": "text/x-python",
   "name": "python",
   "nbconvert_exporter": "python",
   "pygments_lexer": "ipython3",
   "version": "3.9.7"
  }
 },
 "nbformat": 4,
 "nbformat_minor": 5
}
